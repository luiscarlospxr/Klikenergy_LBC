{
 "cells": [
  {
   "cell_type": "markdown",
   "metadata": {},
   "source": [
    "# Alarma de PDLs\n",
    "## Descarga directamente las imagenes\n",
    "### Efectividad en la ejecución"
   ]
  },
  {
   "cell_type": "code",
   "execution_count": 54,
   "metadata": {
    "collapsed": true
   },
   "outputs": [],
   "source": [
    "# Data Processing Librearies \n",
    "from datetime import datetime, timedelta, date\n",
    "import numpy as np\n",
    "import matplotlib.pyplot as plt\n",
    "import xlrd\n",
    "import time\n",
    "import pandas as pd\n",
    "\n",
    "#Server EMail\n",
    "import smtplib\n",
    "from email.mime.text import MIMEText\n",
    "from email.mime.multipart import MIMEMultipart\n",
    "from email.mime.base import MIMEBase\n",
    "from email import encoders\n",
    "import os.path\n",
    "\n"
   ]
  },
  {
   "cell_type": "markdown",
   "metadata": {},
   "source": [
    "# Preparación de la información\n",
    "## Lectura y organización de la información"
   ]
  },
  {
   "cell_type": "code",
   "execution_count": 67,
   "metadata": {
    "collapsed": true
   },
   "outputs": [],
   "source": [
    "# Get today´s date in format: dd/mm/YY\n",
    "today = date.today()\n",
    "TodayDate = today.strftime(\"%d_%m_%Y\")\n",
    "\n",
    "# Where all the PDL are saved\n",
    "FileDirectory = 'C:/Users/luisp/Dropbox/EE - Alarma Enel/Planes_De_trabajo/CD10_MT_Planes_de_Trabajo_{}.xlsx'.format(TodayDate)   \n",
    "\n",
    "# Read excel file with all the PDL´s information\n",
    "PDL = pd.read_excel(FileDirectory, skiprows=22, sheetname=0)\n",
    "\n",
    "#Select just the information and columns needed to do the report\n",
    "PDL = PDL[['Firma','Protocolo','Estado Actual','Descripción Actividades Laborales','Lugar de Trabajo','Fecha inicio ejec actividad lab.','Hora inicio ejec actividad lab','Fecha fin ejec actividad lab.','Hora fin ejec actividad lab.']].dropna()\n",
    "\n",
    "#Select only the PDLs already validated for the current day\n",
    "PDL_validados = PDL.loc[(PDL['Estado Actual'] == 'Validado') | (PDL['Estado Actual'] == 'En ejecución')]\n",
    "\n",
    "#Save validated PDL\n",
    "#This E-mail is for the BOSS\n",
    "PDL_validados.to_excel('PDL_validados_{}.xlsx'.format(TodayDate))\n",
    "\n",
    "#List of all responsable project managers of the analysed PDLs\n",
    "Enel_responsables = PDL_validados.drop_duplicates(subset=\"Firma\")[['Firma']].values.tolist()\n",
    "#len(Enel_responsables)\n"
   ]
  },
  {
   "cell_type": "code",
   "execution_count": 68,
   "metadata": {},
   "outputs": [
    {
     "data": {
      "text/plain": [
       "[['VALBUENA DIAZ GUSTAVO ALBERTO (CO80810396)'],\n",
       " ['LOZANO CASTELLANOS CAROLINA (CO30405543)']]"
      ]
     },
     "execution_count": 68,
     "metadata": {},
     "output_type": "execute_result"
    }
   ],
   "source": [
    "Enel_responsables"
   ]
  },
  {
   "cell_type": "markdown",
   "metadata": {
    "collapsed": true
   },
   "source": [
    "# Envío de Emails\n",
    "## Llamado al servidor y envío de información\n",
    "### Gerentes de proyecto"
   ]
  },
  {
   "cell_type": "code",
   "execution_count": 59,
   "metadata": {
    "collapsed": true
   },
   "outputs": [],
   "source": [
    "#Mail list\n",
    "EMailListDirectory = 'C:/Users/luisp/Dropbox/EE - Alarma Enel/List_Enel_responsable.xlsx'  \n",
    "\n",
    "# Read Email list\n",
    "Email_List_Enel_responsable = pd.read_excel(EMailListDirectory, sheetname=0)\n",
    "\n",
    "\n",
    "\n",
    "for Responsable_Number in range(len(Enel_responsables)-1):\n",
    "\n",
    "    #Information ready : PDL & email for each project manager\n",
    "    PDLs_Enel_responsable = PDL_validados.loc[PDL_validados['Firma'] == Enel_responsables[Responsable_Number][0]]\n",
    "\n",
    "    #Generating the attaached file\n",
    "    PDLs_Enel_responsable.to_excel('PDLs_{}_{}.xlsx'.format(TodayDate,Enel_responsables[Responsable_Number][0]))\n",
    "\n",
    "    #Amount of validated PDLs per project manager\n",
    "    PDLs_Amount_per_Enel_responsable = len(PDLs_Enel_responsable['Firma'].values.tolist())\n",
    "\n",
    "    #Getting the email address for each project manager\n",
    "    Email_Enel_responsable = Email_List_Enel_responsable.loc[Email_List_Enel_responsable['Firma'] == Enel_responsables[Responsable_Number][0]][['E-mail']].values.tolist()[0][0]\n",
    "\n",
    "    #Getting the name for each project manager\n",
    "    Destinatario = Enel_responsables[Responsable_Number][0]\n",
    "\n",
    "    #Basic information to send the E-mail\n",
    "    email = 'Efectividadenlaejecucion@gmail.com'\n",
    "    password = '#Enel2020*'\n",
    "    send_to_email = Email_Enel_responsable\n",
    "    subject = 'PDLs validados para {} el día {}'.format(Destinatario,TodayDate)\n",
    "    message = 'Buenos días {} hoy tiene {} PDLs por ejecutar. La información detallada de estos trabajos puede encontrarla adjunta a este correo'.format(Destinatario, PDLs_Amount_per_Enel_responsable)\n",
    "    attached_file_location = 'C:/Users/luisp/Dropbox/EE - Alarma Enel/PDLs_{}_{}.xlsx'.format(TodayDate,Enel_responsables[Responsable_Number][0])\n",
    "\n",
    "    #E-mail references\n",
    "    msg = MIMEMultipart()\n",
    "    msg['From'] = email\n",
    "    msg['To'] = send_to_email\n",
    "    msg['Subject'] = subject\n",
    "\n",
    "\n",
    "    msg.attach(MIMEText(message, 'plain'))\n",
    "\n",
    "    filename = os.path.basename(attached_file_location)\n",
    "    attachment = open(attached_file_location,'rb')\n",
    "    part = MIMEBase('application' ,'octet-stream')\n",
    "    part.set_payload((attachment).read())\n",
    "    encoders.encode_base64(part)\n",
    "    part.add_header('Content-Disposition', 'attachment; filename = %s' % filename)\n",
    "\n",
    "    msg.attach(part)\n",
    "\n",
    "    #Server interaction\n",
    "    server = smtplib.SMTP('smtp.gmail.com', 587)\n",
    "    server.starttls()\n",
    "    server.login(email,password)\n",
    "    text = msg.as_string()\n",
    "    server.sendmail(email,send_to_email,text)\n",
    "    server.quit()\n"
   ]
  },
  {
   "cell_type": "markdown",
   "metadata": {},
   "source": [
    "# Envío de Emails\n",
    "## Llamado al servidor y envío de información\n",
    "### Jefes de división"
   ]
  },
  {
   "cell_type": "code",
   "execution_count": 71,
   "metadata": {},
   "outputs": [
    {
     "data": {
      "text/plain": [
       "(221, b'2.0.0 closing connection o130sm643468vke.28 - gsmtp')"
      ]
     },
     "execution_count": 71,
     "metadata": {},
     "output_type": "execute_result"
    }
   ],
   "source": [
    "#Basic information to send the E-mail\n",
    "email = 'Efectividadenlaejecucion@gmail.com'\n",
    "password = '#Enel2020*'\n",
    "send_to_email = 'lida.sabogal@enel.com'\n",
    "subject = 'Sistema autmático para aviso de PDLs validados en Sabana centro'\n",
    "message = 'Buenos días ingeniera Lida, soy un robot programado por Luis Carlos Parra Raffán, el cual le informa los PDLs validados y en ejecución para Sabana Centro, por favor consulte el archivo adjunto. Gracias'\n",
    "attached_file_location = 'C:/Users/luisp/Dropbox/EE - Alarma Enel/PDL_validados_{}.xlsx'.format(TodayDate)\n",
    "\n",
    "#E-mail references\n",
    "msg = MIMEMultipart()\n",
    "msg['From'] = email\n",
    "msg['To'] = send_to_email\n",
    "msg['Subject'] = subject\n",
    "\n",
    "\n",
    "msg.attach(MIMEText(message, 'plain'))\n",
    "\n",
    "filename = os.path.basename(attached_file_location)\n",
    "attachment = open(attached_file_location,'rb')\n",
    "part = MIMEBase('application' ,'octet-stream')\n",
    "part.set_payload((attachment).read())\n",
    "encoders.encode_base64(part)\n",
    "part.add_header('Content-Disposition', 'attachment; filename = %s' % filename)\n",
    "\n",
    "msg.attach(part)\n",
    "\n",
    "#Server interaction\n",
    "server = smtplib.SMTP('smtp.gmail.com', 587)\n",
    "server.starttls()\n",
    "server.login(email,password)\n",
    "text = msg.as_string()\n",
    "server.sendmail(email,send_to_email,text)\n",
    "server.quit()"
   ]
  },
  {
   "cell_type": "code",
   "execution_count": null,
   "metadata": {
    "collapsed": true
   },
   "outputs": [],
   "source": []
  }
 ],
 "metadata": {
  "kernelspec": {
   "display_name": "Python 3",
   "language": "python",
   "name": "python3"
  },
  "language_info": {
   "codemirror_mode": {
    "name": "ipython",
    "version": 3
   },
   "file_extension": ".py",
   "mimetype": "text/x-python",
   "name": "python",
   "nbconvert_exporter": "python",
   "pygments_lexer": "ipython3",
   "version": "3.6.7"
  }
 },
 "nbformat": 4,
 "nbformat_minor": 2
}
